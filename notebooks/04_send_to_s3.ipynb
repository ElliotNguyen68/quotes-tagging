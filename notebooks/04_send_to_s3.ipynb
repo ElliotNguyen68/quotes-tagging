{
 "cells": [
  {
   "cell_type": "code",
   "execution_count": 22,
   "metadata": {},
   "outputs": [],
   "source": [
    "import boto3\n",
    "# s3_client = boto3.client('s3')\n",
    "s3 = boto3.resource('s3')\n",
    "\n",
    "try:\n",
    "    put_data = open('../outputs/data.json', 'rb')\n",
    "except IOError:\n",
    "    print(\"Expected file name or binary data, got\")\n",
    "    raise\n",
    "try:\n",
    "    path = 'public/data/quotes/hard times/heartbroken/0/'\n",
    "    s3.Bucket('goals7d96afe7e9a348eab91826d84ddd7b25221021-dev').put_object(Key=path + 'data2.json', Body=put_data)\n",
    "except ClientError:\n",
    "    print('ClientError')\n",
    "    raise"
   ]
  },
  {
   "cell_type": "code",
   "execution_count": null,
   "metadata": {},
   "outputs": [],
   "source": []
  },
  {
   "cell_type": "code",
   "execution_count": null,
   "metadata": {},
   "outputs": [],
   "source": []
  }
 ],
 "metadata": {
  "kernelspec": {
   "display_name": "py38DS",
   "language": "python",
   "name": "python3"
  },
  "language_info": {
   "codemirror_mode": {
    "name": "ipython",
    "version": 3
   },
   "file_extension": ".py",
   "mimetype": "text/x-python",
   "name": "python",
   "nbconvert_exporter": "python",
   "pygments_lexer": "ipython3",
   "version": "3.8.10"
  },
  "orig_nbformat": 4,
  "vscode": {
   "interpreter": {
    "hash": "a6da2eb9669cf043980d9a4ed6496c72dad2932caa83ee0e843d745e25ef13e8"
   }
  }
 },
 "nbformat": 4,
 "nbformat_minor": 2
}
