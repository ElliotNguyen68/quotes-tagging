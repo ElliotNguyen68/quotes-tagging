{
 "cells": [
  {
   "cell_type": "code",
   "execution_count": 1,
   "metadata": {},
   "outputs": [],
   "source": [
    "import boto3\n",
    "# s3_client = boto3.client('s3')\n",
    "s3 = boto3.client('s3')\n"
   ]
  },
  {
   "cell_type": "code",
   "execution_count": 2,
   "metadata": {},
   "outputs": [
    {
     "ename": "ClientError",
     "evalue": "An error occurred (SignatureDoesNotMatch) when calling the ListObjects operation: The request signature we calculated does not match the signature you provided. Check your key and signing method.",
     "output_type": "error",
     "traceback": [
      "\u001b[0;31m---------------------------------------------------------------------------\u001b[0m",
      "\u001b[0;31mClientError\u001b[0m                               Traceback (most recent call last)",
      "Cell \u001b[0;32mIn[2], line 1\u001b[0m\n\u001b[0;32m----> 1\u001b[0m result \u001b[39m=\u001b[39m s3\u001b[39m.\u001b[39;49mlist_objects(Bucket \u001b[39m=\u001b[39;49m \u001b[39m\"\u001b[39;49m\u001b[39mgoals7d96afe7e9a348eab91826d84ddd7b25221021-dev\u001b[39;49m\u001b[39m\"\u001b[39;49m, Prefix\u001b[39m=\u001b[39;49m\u001b[39m'\u001b[39;49m\u001b[39m/data/quotes/hard times/death/\u001b[39;49m\u001b[39m'\u001b[39;49m)\n",
      "File \u001b[0;32m/var/DSTeam/DScommon/anaconda3/envs/py38DS/lib/python3.8/site-packages/botocore/client.py:530\u001b[0m, in \u001b[0;36mClientCreator._create_api_method.<locals>._api_call\u001b[0;34m(self, *args, **kwargs)\u001b[0m\n\u001b[1;32m    526\u001b[0m     \u001b[39mraise\u001b[39;00m \u001b[39mTypeError\u001b[39;00m(\n\u001b[1;32m    527\u001b[0m         \u001b[39mf\u001b[39m\u001b[39m\"\u001b[39m\u001b[39m{\u001b[39;00mpy_operation_name\u001b[39m}\u001b[39;00m\u001b[39m() only accepts keyword arguments.\u001b[39m\u001b[39m\"\u001b[39m\n\u001b[1;32m    528\u001b[0m     )\n\u001b[1;32m    529\u001b[0m \u001b[39m# The \"self\" in this scope is referring to the BaseClient.\u001b[39;00m\n\u001b[0;32m--> 530\u001b[0m \u001b[39mreturn\u001b[39;00m \u001b[39mself\u001b[39;49m\u001b[39m.\u001b[39;49m_make_api_call(operation_name, kwargs)\n",
      "File \u001b[0;32m/var/DSTeam/DScommon/anaconda3/envs/py38DS/lib/python3.8/site-packages/botocore/client.py:964\u001b[0m, in \u001b[0;36mBaseClient._make_api_call\u001b[0;34m(self, operation_name, api_params)\u001b[0m\n\u001b[1;32m    962\u001b[0m     error_code \u001b[39m=\u001b[39m parsed_response\u001b[39m.\u001b[39mget(\u001b[39m\"\u001b[39m\u001b[39mError\u001b[39m\u001b[39m\"\u001b[39m, {})\u001b[39m.\u001b[39mget(\u001b[39m\"\u001b[39m\u001b[39mCode\u001b[39m\u001b[39m\"\u001b[39m)\n\u001b[1;32m    963\u001b[0m     error_class \u001b[39m=\u001b[39m \u001b[39mself\u001b[39m\u001b[39m.\u001b[39mexceptions\u001b[39m.\u001b[39mfrom_code(error_code)\n\u001b[0;32m--> 964\u001b[0m     \u001b[39mraise\u001b[39;00m error_class(parsed_response, operation_name)\n\u001b[1;32m    965\u001b[0m \u001b[39melse\u001b[39;00m:\n\u001b[1;32m    966\u001b[0m     \u001b[39mreturn\u001b[39;00m parsed_response\n",
      "\u001b[0;31mClientError\u001b[0m: An error occurred (SignatureDoesNotMatch) when calling the ListObjects operation: The request signature we calculated does not match the signature you provided. Check your key and signing method."
     ]
    }
   ],
   "source": [
    "result = s3.list_objects(Bucket = \"goals7d96afe7e9a348eab91826d84ddd7b25221021-dev\", Prefix='/data/quotes/hard times/death/')"
   ]
  },
  {
   "cell_type": "code",
   "execution_count": 6,
   "metadata": {},
   "outputs": [
    {
     "ename": "AttributeError",
     "evalue": "'S3' object has no attribute 'Bucket'",
     "output_type": "error",
     "traceback": [
      "\u001b[0;31m---------------------------------------------------------------------------\u001b[0m",
      "\u001b[0;31mAttributeError\u001b[0m                            Traceback (most recent call last)",
      "Cell \u001b[0;32mIn[6], line 1\u001b[0m\n\u001b[0;32m----> 1\u001b[0m s3\u001b[39m.\u001b[39;49mBucket(\u001b[39m'\u001b[39m\u001b[39mgoals7d96afe7e9a348eab91826d84ddd7b25221021-dev\u001b[39m\u001b[39m'\u001b[39m)\u001b[39m.\u001b[39mget_object(Key\u001b[39m=\u001b[39m\u001b[39m'\u001b[39m\u001b[39m/data/quotes/hard times/death/0/data.json\u001b[39m\u001b[39m'\u001b[39m)\n",
      "File \u001b[0;32m/var/DSTeam/DScommon/anaconda3/envs/py38DS/lib/python3.8/site-packages/botocore/client.py:875\u001b[0m, in \u001b[0;36mBaseClient.__getattr__\u001b[0;34m(self, item)\u001b[0m\n\u001b[1;32m    872\u001b[0m \u001b[39mif\u001b[39;00m event_response \u001b[39mis\u001b[39;00m \u001b[39mnot\u001b[39;00m \u001b[39mNone\u001b[39;00m:\n\u001b[1;32m    873\u001b[0m     \u001b[39mreturn\u001b[39;00m event_response\n\u001b[0;32m--> 875\u001b[0m \u001b[39mraise\u001b[39;00m \u001b[39mAttributeError\u001b[39;00m(\n\u001b[1;32m    876\u001b[0m     \u001b[39mf\u001b[39m\u001b[39m\"\u001b[39m\u001b[39m'\u001b[39m\u001b[39m{\u001b[39;00m\u001b[39mself\u001b[39m\u001b[39m.\u001b[39m\u001b[39m__class__\u001b[39m\u001b[39m.\u001b[39m\u001b[39m__name__\u001b[39m\u001b[39m}\u001b[39;00m\u001b[39m'\u001b[39m\u001b[39m object has no attribute \u001b[39m\u001b[39m'\u001b[39m\u001b[39m{\u001b[39;00mitem\u001b[39m}\u001b[39;00m\u001b[39m'\u001b[39m\u001b[39m\"\u001b[39m\n\u001b[1;32m    877\u001b[0m )\n",
      "\u001b[0;31mAttributeError\u001b[0m: 'S3' object has no attribute 'Bucket'"
     ]
    }
   ],
   "source": [
    "s3.Bucket('goals7d96afe7e9a348eab91826d84ddd7b25221021-dev').get_object(Key='/data/quotes/hard times/death/0/data.json')"
   ]
  },
  {
   "cell_type": "code",
   "execution_count": 22,
   "metadata": {},
   "outputs": [],
   "source": [
    "\n",
    "try:\n",
    "    put_data = open('../outputs/data.json', 'rb')\n",
    "except IOError:\n",
    "    print(\"Expected file name or binary data, got\")\n",
    "    raise\n",
    "try:\n",
    "    path = 'public/data/quotes/hard times/heartbroken/0/'\n",
    "    s3.Bucket('goals7d96afe7e9a348eab91826d84ddd7b25221021-dev').put_object(Key=path + 'data2.json', Body=put_data)\n",
    "except ClientError:\n",
    "    print('ClientError')\n",
    "    raise"
   ]
  },
  {
   "cell_type": "code",
   "execution_count": null,
   "metadata": {},
   "outputs": [],
   "source": []
  },
  {
   "cell_type": "code",
   "execution_count": null,
   "metadata": {},
   "outputs": [],
   "source": []
  }
 ],
 "metadata": {
  "kernelspec": {
   "display_name": "py38DS",
   "language": "python",
   "name": "py38ds"
  },
  "language_info": {
   "codemirror_mode": {
    "name": "ipython",
    "version": 3
   },
   "file_extension": ".py",
   "mimetype": "text/x-python",
   "name": "python",
   "nbconvert_exporter": "python",
   "pygments_lexer": "ipython3",
   "version": "3.8.16 (default, Jan 17 2023, 23:13:24) \n[GCC 11.2.0]"
  },
  "orig_nbformat": 4,
  "vscode": {
   "interpreter": {
    "hash": "a6da2eb9669cf043980d9a4ed6496c72dad2932caa83ee0e843d745e25ef13e8"
   }
  }
 },
 "nbformat": 4,
 "nbformat_minor": 2
}
