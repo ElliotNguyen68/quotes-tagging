{
 "cells": [
  {
   "cell_type": "code",
   "execution_count": 4,
   "metadata": {},
   "outputs": [],
   "source": []
  },
  {
   "cell_type": "code",
   "execution_count": null,
   "metadata": {},
   "outputs": [],
   "source": [
    "df=pd.read_csv('/var/DSTeam/locnt2/personal/quotes-tagging/data/quotes.csv',header=None)"
   ]
  }
 ],
 "metadata": {
  "kernelspec": {
   "display_name": "py38DS",
   "language": "python",
   "name": "python3"
  },
  "language_info": {
   "codemirror_mode": {
    "name": "ipython",
    "version": 3
   },
   "file_extension": ".py",
   "mimetype": "text/x-python",
   "name": "python",
   "nbconvert_exporter": "python",
   "pygments_lexer": "ipython3",
   "version": "3.10.8"
  },
  "orig_nbformat": 4,
  "vscode": {
   "interpreter": {
    "hash": "a6da2eb9669cf043980d9a4ed6496c72dad2932caa83ee0e843d745e25ef13e8"
   }
  }
 },
 "nbformat": 4,
 "nbformat_minor": 2
}
