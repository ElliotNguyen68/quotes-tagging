{
 "cells": [
  {
   "cell_type": "code",
   "execution_count": 1,
   "metadata": {},
   "outputs": [
    {
     "name": "stderr",
     "output_type": "stream",
     "text": [
      "/var/DSTeam/DScommon/anaconda3/envs/py38DL/lib/python3.8/site-packages/tqdm/auto.py:21: TqdmWarning: IProgress not found. Please update jupyter and ipywidgets. See https://ipywidgets.readthedocs.io/en/stable/user_install.html\n",
      "  from .autonotebook import tqdm as notebook_tqdm\n"
     ]
    }
   ],
   "source": [
    "import pandas as pd\n",
    "import sys\n",
    "\n",
    "sys.path.append(\"/var/DSTeam/locnt2/personal/quotes-tagging/\")\n",
    "from collections import Counter\n",
    "import torch\n",
    "from torch import nn\n",
    "import numpy as np"
   ]
  },
  {
   "cell_type": "code",
   "execution_count": 2,
   "metadata": {},
   "outputs": [],
   "source": [
    "df = pd.read_csv(\"/var/DSTeam/locnt2/personal/quotes-tagging/data/quotes_clean.csv\")"
   ]
  },
  {
   "cell_type": "code",
   "execution_count": 3,
   "metadata": {},
   "outputs": [],
   "source": [
    "df.tags = df.tags.str.lower()\n",
    "df.tags = df.tags.str.split(\",\")"
   ]
  },
  {
   "cell_type": "code",
   "execution_count": 4,
   "metadata": {},
   "outputs": [],
   "source": [
    "tags = df.tags.explode().tolist()"
   ]
  },
  {
   "cell_type": "code",
   "execution_count": 5,
   "metadata": {},
   "outputs": [
    {
     "data": {
      "text/plain": [
       "'Darkness cannot drive out darkness: only light can do that. Hate cannot drive out hate: only love can do that.'"
      ]
     },
     "execution_count": 5,
     "metadata": {},
     "output_type": "execute_result"
    }
   ],
   "source": [
    "df.quote.iloc[4]"
   ]
  },
  {
   "cell_type": "code",
   "execution_count": 6,
   "metadata": {},
   "outputs": [],
   "source": [
    "keys = list(Counter(tags).keys())\n",
    "vals = list(Counter(tags).values())"
   ]
  },
  {
   "cell_type": "code",
   "execution_count": 96,
   "metadata": {},
   "outputs": [],
   "source": [
    "df_tags = (\n",
    "    pd.DataFrame({\"tag\": keys, \"num_quote\": vals})\n",
    "    .dropna(subset=[\"tag\"])\n",
    "    .sort_values(\"num_quote\", ascending=False)\n",
    ")"
   ]
  },
  {
   "cell_type": "code",
   "execution_count": 8,
   "metadata": {},
   "outputs": [
    {
     "data": {
      "text/plain": [
       "239737"
      ]
     },
     "execution_count": 8,
     "metadata": {},
     "output_type": "execute_result"
    }
   ],
   "source": [
    "df_tags.sort_values(\"num_quote\", ascending=False).iloc[:20].num_quote.sum()"
   ]
  },
  {
   "cell_type": "code",
   "execution_count": 9,
   "metadata": {},
   "outputs": [],
   "source": [
    "from transformers import BertTokenizer, BertModel"
   ]
  },
  {
   "cell_type": "code",
   "execution_count": 10,
   "metadata": {},
   "outputs": [
    {
     "name": "stderr",
     "output_type": "stream",
     "text": [
      "Some weights of the model checkpoint at bert-base-uncased were not used when initializing BertModel: ['cls.predictions.decoder.weight', 'cls.seq_relationship.bias', 'cls.predictions.transform.LayerNorm.bias', 'cls.predictions.bias', 'cls.predictions.transform.dense.bias', 'cls.predictions.transform.LayerNorm.weight', 'cls.predictions.transform.dense.weight', 'cls.seq_relationship.weight']\n",
      "- This IS expected if you are initializing BertModel from the checkpoint of a model trained on another task or with another architecture (e.g. initializing a BertForSequenceClassification model from a BertForPreTraining model).\n",
      "- This IS NOT expected if you are initializing BertModel from the checkpoint of a model that you expect to be exactly identical (initializing a BertForSequenceClassification model from a BertForSequenceClassification model).\n"
     ]
    }
   ],
   "source": [
    "model = BertModel.from_pretrained(\"bert-base-uncased\")"
   ]
  },
  {
   "cell_type": "code",
   "execution_count": 11,
   "metadata": {},
   "outputs": [],
   "source": [
    "tokenizer = BertTokenizer.from_pretrained(\"bert-base-uncased\")"
   ]
  },
  {
   "cell_type": "code",
   "execution_count": 12,
   "metadata": {},
   "outputs": [
    {
     "data": {
      "text/plain": [
       "['courage', ' discipline', ' self-control', ' self-respect']"
      ]
     },
     "execution_count": 12,
     "metadata": {},
     "output_type": "execute_result"
    }
   ],
   "source": [
    "df.dropna(subset=[\"quote\"]).loc[\n",
    "    lambda x: x.quote.str.contains(\"self-respect, and\")\n",
    "].iloc[0].tags"
   ]
  },
  {
   "cell_type": "code",
   "execution_count": 13,
   "metadata": {},
   "outputs": [
    {
     "data": {
      "text/plain": [
       "{'input_ids': [101, 2969, 1011, 4847, 102], 'token_type_ids': [0, 0, 0, 0, 0], 'attention_mask': [1, 1, 1, 1, 1]}"
      ]
     },
     "execution_count": 13,
     "metadata": {},
     "output_type": "execute_result"
    }
   ],
   "source": [
    "tokenizer(\"self-respect\")"
   ]
  },
  {
   "cell_type": "code",
   "execution_count": 14,
   "metadata": {},
   "outputs": [],
   "source": [
    "string = \"attributed-no-source\""
   ]
  },
  {
   "cell_type": "code",
   "execution_count": 15,
   "metadata": {},
   "outputs": [],
   "source": [
    "with torch.no_grad():\n",
    "    out = model(**tokenizer(string, return_tensors=\"pt\"))"
   ]
  },
  {
   "cell_type": "code",
   "execution_count": 16,
   "metadata": {},
   "outputs": [],
   "source": [
    "def text_to_vector(text):\n",
    "    with torch.no_grad():\n",
    "        out = model(**tokenizer(text, return_tensors=\"pt\"))\n",
    "    return out.pooler_output.numpy().flatten()"
   ]
  },
  {
   "cell_type": "code",
   "execution_count": 101,
   "metadata": {},
   "outputs": [],
   "source": [
    "all_tags = df_tags.tag.tolist()"
   ]
  },
  {
   "cell_type": "code",
   "execution_count": 102,
   "metadata": {},
   "outputs": [],
   "source": [
    "device = torch.device(\"cuda:0\")\n",
    "model = model.to(device)"
   ]
  },
  {
   "cell_type": "code",
   "execution_count": 103,
   "metadata": {},
   "outputs": [],
   "source": [
    "vectors_tag = []"
   ]
  },
  {
   "cell_type": "code",
   "execution_count": 104,
   "metadata": {},
   "outputs": [],
   "source": [
    "for x in np.array_split(all_tags, 20):\n",
    "    tokenzed_tags = tokenizer(x.tolist(), return_tensors=\"pt\", padding=True)\n",
    "    tokenzed_tags = tokenzed_tags.to(device)\n",
    "    with torch.no_grad():\n",
    "        out = model(**tokenzed_tags)\n",
    "        vectors_tag.append(out.pooler_output.cpu().numpy())\n",
    "    torch.cuda.empty_cache()"
   ]
  },
  {
   "cell_type": "code",
   "execution_count": 105,
   "metadata": {},
   "outputs": [],
   "source": [
    "vectors_tag_vstack = np.vstack(vectors_tag)"
   ]
  },
  {
   "cell_type": "code",
   "execution_count": 106,
   "metadata": {},
   "outputs": [],
   "source": [
    "df_tags[\"vector_tag\"] = vectors_tag_vstack.tolist()"
   ]
  },
  {
   "cell_type": "code",
   "execution_count": 28,
   "metadata": {},
   "outputs": [],
   "source": [
    "from sklearn.manifold import TSNE"
   ]
  },
  {
   "cell_type": "code",
   "execution_count": 107,
   "metadata": {},
   "outputs": [],
   "source": [
    "tsne = TSNE(n_components=3, random_state=42)"
   ]
  },
  {
   "cell_type": "code",
   "execution_count": 108,
   "metadata": {},
   "outputs": [],
   "source": [
    "X_tsne = tsne.fit_transform(vectors_tag_vstack[:10000])"
   ]
  },
  {
   "cell_type": "code",
   "execution_count": 68,
   "metadata": {},
   "outputs": [],
   "source": [
    "import matplotlib.pyplot as plt\n",
    "\n",
    "# import plotly.express as px"
   ]
  },
  {
   "cell_type": "code",
   "execution_count": 84,
   "metadata": {},
   "outputs": [
    {
     "data": {
      "text/plain": [
       "'attributed-no-source'"
      ]
     },
     "execution_count": 84,
     "metadata": {},
     "output_type": "execute_result"
    }
   ],
   "source": [
    "df_tags.iloc[0].tag"
   ]
  },
  {
   "cell_type": "code",
   "execution_count": 111,
   "metadata": {},
   "outputs": [
    {
     "data": {
      "text/html": [
       "<div>\n",
       "<style scoped>\n",
       "    .dataframe tbody tr th:only-of-type {\n",
       "        vertical-align: middle;\n",
       "    }\n",
       "\n",
       "    .dataframe tbody tr th {\n",
       "        vertical-align: top;\n",
       "    }\n",
       "\n",
       "    .dataframe thead th {\n",
       "        text-align: right;\n",
       "    }\n",
       "</style>\n",
       "<table border=\"1\" class=\"dataframe\">\n",
       "  <thead>\n",
       "    <tr style=\"text-align: right;\">\n",
       "      <th></th>\n",
       "      <th>tag</th>\n",
       "      <th>num_quote</th>\n",
       "      <th>vector_tag</th>\n",
       "    </tr>\n",
       "  </thead>\n",
       "  <tbody>\n",
       "    <tr>\n",
       "      <th>3</th>\n",
       "      <td>love</td>\n",
       "      <td>33650</td>\n",
       "      <td>[-0.864437997341156, -0.25736525654792786, -0....</td>\n",
       "    </tr>\n",
       "    <tr>\n",
       "      <th>2</th>\n",
       "      <td>life</td>\n",
       "      <td>31425</td>\n",
       "      <td>[-0.903038501739502, -0.37457799911499023, -0....</td>\n",
       "    </tr>\n",
       "    <tr>\n",
       "      <th>11</th>\n",
       "      <td>inspirational</td>\n",
       "      <td>23420</td>\n",
       "      <td>[-0.7722470760345459, -0.1867963820695877, 0.6...</td>\n",
       "    </tr>\n",
       "    <tr>\n",
       "      <th>31</th>\n",
       "      <td>philosophy</td>\n",
       "      <td>14106</td>\n",
       "      <td>[-0.9659687876701355, -0.5935049057006836, -0....</td>\n",
       "    </tr>\n",
       "    <tr>\n",
       "      <th>6</th>\n",
       "      <td>truth</td>\n",
       "      <td>11424</td>\n",
       "      <td>[-0.7429459095001221, -0.11659476906061172, 0....</td>\n",
       "    </tr>\n",
       "    <tr>\n",
       "      <th>175</th>\n",
       "      <td>god</td>\n",
       "      <td>10825</td>\n",
       "      <td>[-0.8422870635986328, -0.1923561841249466, 0.3...</td>\n",
       "    </tr>\n",
       "    <tr>\n",
       "      <th>72</th>\n",
       "      <td>wisdom</td>\n",
       "      <td>10481</td>\n",
       "      <td>[-0.7098093628883362, -0.13614177703857422, 0....</td>\n",
       "    </tr>\n",
       "    <tr>\n",
       "      <th>168</th>\n",
       "      <td>humor</td>\n",
       "      <td>9488</td>\n",
       "      <td>[-0.8484600782394409, -0.3035257160663605, 0.0...</td>\n",
       "    </tr>\n",
       "    <tr>\n",
       "      <th>26</th>\n",
       "      <td>life</td>\n",
       "      <td>9084</td>\n",
       "      <td>[-0.903038501739502, -0.37457799911499023, -0....</td>\n",
       "    </tr>\n",
       "    <tr>\n",
       "      <th>2477</th>\n",
       "      <td>quotes</td>\n",
       "      <td>9054</td>\n",
       "      <td>[-0.7491070032119751, -0.18356673419475555, 0....</td>\n",
       "    </tr>\n",
       "    <tr>\n",
       "      <th>25</th>\n",
       "      <td>love</td>\n",
       "      <td>8763</td>\n",
       "      <td>[-0.864437997341156, -0.25736525654792786, -0....</td>\n",
       "    </tr>\n",
       "    <tr>\n",
       "      <th>139</th>\n",
       "      <td>hope</td>\n",
       "      <td>8553</td>\n",
       "      <td>[-0.8225093483924866, -0.19563861191272736, 0....</td>\n",
       "    </tr>\n",
       "    <tr>\n",
       "      <th>71</th>\n",
       "      <td>romance</td>\n",
       "      <td>8452</td>\n",
       "      <td>[-0.8617551326751709, -0.23286272585391998, 0....</td>\n",
       "    </tr>\n",
       "    <tr>\n",
       "      <th>215</th>\n",
       "      <td>inspirational-quotes</td>\n",
       "      <td>7929</td>\n",
       "      <td>[-0.8739404082298279, -0.4927459955215454, -0....</td>\n",
       "    </tr>\n",
       "    <tr>\n",
       "      <th>49</th>\n",
       "      <td>happiness</td>\n",
       "      <td>7824</td>\n",
       "      <td>[-0.7812394499778748, -0.24134428799152374, 0....</td>\n",
       "    </tr>\n",
       "    <tr>\n",
       "      <th>654</th>\n",
       "      <td>success</td>\n",
       "      <td>7503</td>\n",
       "      <td>[-0.830916702747345, -0.1849401295185089, 0.42...</td>\n",
       "    </tr>\n",
       "    <tr>\n",
       "      <th>735</th>\n",
       "      <td>writing</td>\n",
       "      <td>7170</td>\n",
       "      <td>[-0.726211667060852, -0.0854501947760582, 0.67...</td>\n",
       "    </tr>\n",
       "    <tr>\n",
       "      <th>161</th>\n",
       "      <td>faith</td>\n",
       "      <td>7008</td>\n",
       "      <td>[-0.7437307834625244, -0.1174900084733963, 0.5...</td>\n",
       "    </tr>\n",
       "    <tr>\n",
       "      <th>109</th>\n",
       "      <td>people</td>\n",
       "      <td>6906</td>\n",
       "      <td>[-0.8543264865875244, -0.32318416237831116, 0....</td>\n",
       "    </tr>\n",
       "    <tr>\n",
       "      <th>99</th>\n",
       "      <td>inspiration</td>\n",
       "      <td>6672</td>\n",
       "      <td>[-0.8206183910369873, -0.22178231179714203, 0....</td>\n",
       "    </tr>\n",
       "  </tbody>\n",
       "</table>\n",
       "</div>"
      ],
      "text/plain": [
       "                        tag  num_quote  \\\n",
       "3                      love      33650   \n",
       "2                      life      31425   \n",
       "11            inspirational      23420   \n",
       "31               philosophy      14106   \n",
       "6                     truth      11424   \n",
       "175                     god      10825   \n",
       "72                   wisdom      10481   \n",
       "168                   humor       9488   \n",
       "26                     life       9084   \n",
       "2477                 quotes       9054   \n",
       "25                     love       8763   \n",
       "139                    hope       8553   \n",
       "71                  romance       8452   \n",
       "215    inspirational-quotes       7929   \n",
       "49                happiness       7824   \n",
       "654                 success       7503   \n",
       "735                 writing       7170   \n",
       "161                   faith       7008   \n",
       "109                  people       6906   \n",
       "99              inspiration       6672   \n",
       "\n",
       "                                             vector_tag  \n",
       "3     [-0.864437997341156, -0.25736525654792786, -0....  \n",
       "2     [-0.903038501739502, -0.37457799911499023, -0....  \n",
       "11    [-0.7722470760345459, -0.1867963820695877, 0.6...  \n",
       "31    [-0.9659687876701355, -0.5935049057006836, -0....  \n",
       "6     [-0.7429459095001221, -0.11659476906061172, 0....  \n",
       "175   [-0.8422870635986328, -0.1923561841249466, 0.3...  \n",
       "72    [-0.7098093628883362, -0.13614177703857422, 0....  \n",
       "168   [-0.8484600782394409, -0.3035257160663605, 0.0...  \n",
       "26    [-0.903038501739502, -0.37457799911499023, -0....  \n",
       "2477  [-0.7491070032119751, -0.18356673419475555, 0....  \n",
       "25    [-0.864437997341156, -0.25736525654792786, -0....  \n",
       "139   [-0.8225093483924866, -0.19563861191272736, 0....  \n",
       "71    [-0.8617551326751709, -0.23286272585391998, 0....  \n",
       "215   [-0.8739404082298279, -0.4927459955215454, -0....  \n",
       "49    [-0.7812394499778748, -0.24134428799152374, 0....  \n",
       "654   [-0.830916702747345, -0.1849401295185089, 0.42...  \n",
       "735   [-0.726211667060852, -0.0854501947760582, 0.67...  \n",
       "161   [-0.7437307834625244, -0.1174900084733963, 0.5...  \n",
       "109   [-0.8543264865875244, -0.32318416237831116, 0....  \n",
       "99    [-0.8206183910369873, -0.22178231179714203, 0....  "
      ]
     },
     "execution_count": 111,
     "metadata": {},
     "output_type": "execute_result"
    }
   ],
   "source": [
    "df_tags[:20]"
   ]
  },
  {
   "cell_type": "code",
   "execution_count": 117,
   "metadata": {},
   "outputs": [
    {
     "data": {
      "text/html": [
       "<div>\n",
       "<style scoped>\n",
       "    .dataframe tbody tr th:only-of-type {\n",
       "        vertical-align: middle;\n",
       "    }\n",
       "\n",
       "    .dataframe tbody tr th {\n",
       "        vertical-align: top;\n",
       "    }\n",
       "\n",
       "    .dataframe thead th {\n",
       "        text-align: right;\n",
       "    }\n",
       "</style>\n",
       "<table border=\"1\" class=\"dataframe\">\n",
       "  <thead>\n",
       "    <tr style=\"text-align: right;\">\n",
       "      <th></th>\n",
       "      <th>tag</th>\n",
       "      <th>num_quote</th>\n",
       "      <th>vector_tag</th>\n",
       "    </tr>\n",
       "  </thead>\n",
       "  <tbody>\n",
       "    <tr>\n",
       "      <th>3</th>\n",
       "      <td>love</td>\n",
       "      <td>33650</td>\n",
       "      <td>[-0.864437997341156, -0.25736525654792786, -0....</td>\n",
       "    </tr>\n",
       "    <tr>\n",
       "      <th>25</th>\n",
       "      <td>love</td>\n",
       "      <td>8763</td>\n",
       "      <td>[-0.864437997341156, -0.25736525654792786, -0....</td>\n",
       "    </tr>\n",
       "    <tr>\n",
       "      <th>1209</th>\n",
       "      <td>love-quotes</td>\n",
       "      <td>3883</td>\n",
       "      <td>[-0.8061947226524353, -0.30500948429107666, -0...</td>\n",
       "    </tr>\n",
       "    <tr>\n",
       "      <th>1022</th>\n",
       "      <td>self-love</td>\n",
       "      <td>1893</td>\n",
       "      <td>[-0.8109254837036133, -0.27084362506866455, -0...</td>\n",
       "    </tr>\n",
       "    <tr>\n",
       "      <th>670</th>\n",
       "      <td>lovers</td>\n",
       "      <td>1339</td>\n",
       "      <td>[-0.8154675364494324, -0.2330590784549713, 0.3...</td>\n",
       "    </tr>\n",
       "    <tr>\n",
       "      <th>...</th>\n",
       "      <td>...</td>\n",
       "      <td>...</td>\n",
       "      <td>...</td>\n",
       "    </tr>\n",
       "    <tr>\n",
       "      <th>89710</th>\n",
       "      <td>love-based-psychology</td>\n",
       "      <td>1</td>\n",
       "      <td>[-0.9145378470420837, -0.5261462330818176, -0....</td>\n",
       "    </tr>\n",
       "    <tr>\n",
       "      <th>90118</th>\n",
       "      <td>inspirational-love-story</td>\n",
       "      <td>1</td>\n",
       "      <td>[-0.8933933973312378, -0.450512170791626, -0.9...</td>\n",
       "    </tr>\n",
       "    <tr>\n",
       "      <th>90111</th>\n",
       "      <td>spiritual-mother-love</td>\n",
       "      <td>1</td>\n",
       "      <td>[-0.9051916599273682, -0.3471352458000183, -0....</td>\n",
       "    </tr>\n",
       "    <tr>\n",
       "      <th>90177</th>\n",
       "      <td>wisdom-love</td>\n",
       "      <td>1</td>\n",
       "      <td>[-0.8978511691093445, -0.34850549697875977, -0...</td>\n",
       "    </tr>\n",
       "    <tr>\n",
       "      <th>90339</th>\n",
       "      <td>love-my-life</td>\n",
       "      <td>1</td>\n",
       "      <td>[-0.8772263526916504, -0.3871821463108063, -0....</td>\n",
       "    </tr>\n",
       "  </tbody>\n",
       "</table>\n",
       "<p>3052 rows × 3 columns</p>\n",
       "</div>"
      ],
      "text/plain": [
       "                             tag  num_quote  \\\n",
       "3                           love      33650   \n",
       "25                          love       8763   \n",
       "1209                 love-quotes       3883   \n",
       "1022                   self-love       1893   \n",
       "670                       lovers       1339   \n",
       "...                          ...        ...   \n",
       "89710      love-based-psychology          1   \n",
       "90118   inspirational-love-story          1   \n",
       "90111      spiritual-mother-love          1   \n",
       "90177                wisdom-love          1   \n",
       "90339               love-my-life          1   \n",
       "\n",
       "                                              vector_tag  \n",
       "3      [-0.864437997341156, -0.25736525654792786, -0....  \n",
       "25     [-0.864437997341156, -0.25736525654792786, -0....  \n",
       "1209   [-0.8061947226524353, -0.30500948429107666, -0...  \n",
       "1022   [-0.8109254837036133, -0.27084362506866455, -0...  \n",
       "670    [-0.8154675364494324, -0.2330590784549713, 0.3...  \n",
       "...                                                  ...  \n",
       "89710  [-0.9145378470420837, -0.5261462330818176, -0....  \n",
       "90118  [-0.8933933973312378, -0.450512170791626, -0.9...  \n",
       "90111  [-0.9051916599273682, -0.3471352458000183, -0....  \n",
       "90177  [-0.8978511691093445, -0.34850549697875977, -0...  \n",
       "90339  [-0.8772263526916504, -0.3871821463108063, -0....  \n",
       "\n",
       "[3052 rows x 3 columns]"
      ]
     },
     "execution_count": 117,
     "metadata": {},
     "output_type": "execute_result"
    }
   ],
   "source": [
    "df_tags.loc[lambda x: x.tag.str.contains(\"love\")]"
   ]
  },
  {
   "cell_type": "code",
   "execution_count": 118,
   "metadata": {},
   "outputs": [],
   "source": [
    "from sklearn.cluster import KMeans, DBSCAN"
   ]
  },
  {
   "cell_type": "code",
   "execution_count": 127,
   "metadata": {},
   "outputs": [
    {
     "name": "stderr",
     "output_type": "stream",
     "text": [
      "/var/DSTeam/DScommon/anaconda3/envs/py38DL/lib/python3.8/site-packages/sklearn/cluster/_kmeans.py:870: FutureWarning:\n",
      "\n",
      "The default value of `n_init` will change from 10 to 'auto' in 1.4. Set the value of `n_init` explicitly to suppress the warning\n",
      "\n"
     ]
    },
    {
     "data": {
      "text/html": [
       "<style>#sk-container-id-2 {color: black;background-color: white;}#sk-container-id-2 pre{padding: 0;}#sk-container-id-2 div.sk-toggleable {background-color: white;}#sk-container-id-2 label.sk-toggleable__label {cursor: pointer;display: block;width: 100%;margin-bottom: 0;padding: 0.3em;box-sizing: border-box;text-align: center;}#sk-container-id-2 label.sk-toggleable__label-arrow:before {content: \"▸\";float: left;margin-right: 0.25em;color: #696969;}#sk-container-id-2 label.sk-toggleable__label-arrow:hover:before {color: black;}#sk-container-id-2 div.sk-estimator:hover label.sk-toggleable__label-arrow:before {color: black;}#sk-container-id-2 div.sk-toggleable__content {max-height: 0;max-width: 0;overflow: hidden;text-align: left;background-color: #f0f8ff;}#sk-container-id-2 div.sk-toggleable__content pre {margin: 0.2em;color: black;border-radius: 0.25em;background-color: #f0f8ff;}#sk-container-id-2 input.sk-toggleable__control:checked~div.sk-toggleable__content {max-height: 200px;max-width: 100%;overflow: auto;}#sk-container-id-2 input.sk-toggleable__control:checked~label.sk-toggleable__label-arrow:before {content: \"▾\";}#sk-container-id-2 div.sk-estimator input.sk-toggleable__control:checked~label.sk-toggleable__label {background-color: #d4ebff;}#sk-container-id-2 div.sk-label input.sk-toggleable__control:checked~label.sk-toggleable__label {background-color: #d4ebff;}#sk-container-id-2 input.sk-hidden--visually {border: 0;clip: rect(1px 1px 1px 1px);clip: rect(1px, 1px, 1px, 1px);height: 1px;margin: -1px;overflow: hidden;padding: 0;position: absolute;width: 1px;}#sk-container-id-2 div.sk-estimator {font-family: monospace;background-color: #f0f8ff;border: 1px dotted black;border-radius: 0.25em;box-sizing: border-box;margin-bottom: 0.5em;}#sk-container-id-2 div.sk-estimator:hover {background-color: #d4ebff;}#sk-container-id-2 div.sk-parallel-item::after {content: \"\";width: 100%;border-bottom: 1px solid gray;flex-grow: 1;}#sk-container-id-2 div.sk-label:hover label.sk-toggleable__label {background-color: #d4ebff;}#sk-container-id-2 div.sk-serial::before {content: \"\";position: absolute;border-left: 1px solid gray;box-sizing: border-box;top: 0;bottom: 0;left: 50%;z-index: 0;}#sk-container-id-2 div.sk-serial {display: flex;flex-direction: column;align-items: center;background-color: white;padding-right: 0.2em;padding-left: 0.2em;position: relative;}#sk-container-id-2 div.sk-item {position: relative;z-index: 1;}#sk-container-id-2 div.sk-parallel {display: flex;align-items: stretch;justify-content: center;background-color: white;position: relative;}#sk-container-id-2 div.sk-item::before, #sk-container-id-2 div.sk-parallel-item::before {content: \"\";position: absolute;border-left: 1px solid gray;box-sizing: border-box;top: 0;bottom: 0;left: 50%;z-index: -1;}#sk-container-id-2 div.sk-parallel-item {display: flex;flex-direction: column;z-index: 1;position: relative;background-color: white;}#sk-container-id-2 div.sk-parallel-item:first-child::after {align-self: flex-end;width: 50%;}#sk-container-id-2 div.sk-parallel-item:last-child::after {align-self: flex-start;width: 50%;}#sk-container-id-2 div.sk-parallel-item:only-child::after {width: 0;}#sk-container-id-2 div.sk-dashed-wrapped {border: 1px dashed gray;margin: 0 0.4em 0.5em 0.4em;box-sizing: border-box;padding-bottom: 0.4em;background-color: white;}#sk-container-id-2 div.sk-label label {font-family: monospace;font-weight: bold;display: inline-block;line-height: 1.2em;}#sk-container-id-2 div.sk-label-container {text-align: center;}#sk-container-id-2 div.sk-container {/* jupyter's `normalize.less` sets `[hidden] { display: none; }` but bootstrap.min.css set `[hidden] { display: none !important; }` so we also need the `!important` here to be able to override the default hidden behavior on the sphinx rendered scikit-learn.org. See: https://github.com/scikit-learn/scikit-learn/issues/21755 */display: inline-block !important;position: relative;}#sk-container-id-2 div.sk-text-repr-fallback {display: none;}</style><div id=\"sk-container-id-2\" class=\"sk-top-container\"><div class=\"sk-text-repr-fallback\"><pre>KMeans(n_clusters=30)</pre><b>In a Jupyter environment, please rerun this cell to show the HTML representation or trust the notebook. <br />On GitHub, the HTML representation is unable to render, please try loading this page with nbviewer.org.</b></div><div class=\"sk-container\" hidden><div class=\"sk-item\"><div class=\"sk-estimator sk-toggleable\"><input class=\"sk-toggleable__control sk-hidden--visually\" id=\"sk-estimator-id-2\" type=\"checkbox\" checked><label for=\"sk-estimator-id-2\" class=\"sk-toggleable__label sk-toggleable__label-arrow\">KMeans</label><div class=\"sk-toggleable__content\"><pre>KMeans(n_clusters=30)</pre></div></div></div></div></div>"
      ],
      "text/plain": [
       "KMeans(n_clusters=30)"
      ]
     },
     "execution_count": 127,
     "metadata": {},
     "output_type": "execute_result"
    }
   ],
   "source": [
    "kmean = KMeans(n_clusters=30)\n",
    "kmean.fit(vectors_tag_vstack[:10000])"
   ]
  },
  {
   "cell_type": "code",
   "execution_count": 128,
   "metadata": {},
   "outputs": [
    {
     "data": {
      "text/plain": [
       "array([19, 19,  0, ..., 29, 21,  2], dtype=int32)"
      ]
     },
     "execution_count": 128,
     "metadata": {},
     "output_type": "execute_result"
    }
   ],
   "source": [
    "kmean.labels_"
   ]
  },
  {
   "cell_type": "code",
   "execution_count": 171,
   "metadata": {},
   "outputs": [
    {
     "data": {
      "text/plain": [
       "[' patience',\n",
       " ' patient',\n",
       " ' patience-and-timing',\n",
       " ' patience-johnson',\n",
       " ' patience-quotes',\n",
       " ' patience-and-love',\n",
       " ' patients',\n",
       " ' patient-in-life',\n",
       " ' patient ',\n",
       " ' patience-moves-mountains',\n",
       " ' patience-brings-strength',\n",
       " ' patient-quotes',\n",
       " ' patient-problems',\n",
       " ' patience-and-criticism',\n",
       " ' patience ',\n",
       " ' patient-zero',\n",
       " ' patient-people',\n",
       " ' patienit',\n",
       " ' patience-sparrow',\n",
       " ' patiently ',\n",
       " ' patient-protection',\n",
       " ' patient-love',\n",
       " ' patient-care',\n",
       " ' patience-thankfulness-power',\n",
       " ' patience-kindness',\n",
       " ' patient-endurance',\n",
       " ' patients-get-better',\n",
       " 'and most importantly: our ability to listen with patience and understanding is the measure of our love',\n",
       " ' patience-righteousness',\n",
       " ' patien']"
      ]
     },
     "execution_count": 171,
     "metadata": {},
     "output_type": "execute_result"
    }
   ],
   "source": [
    "list(filter(lambda x: \" patien\" in x, all_tags))"
   ]
  },
  {
   "cell_type": "code",
   "execution_count": 1,
   "metadata": {},
   "outputs": [],
   "source": [
    "categories = {\n",
    "    \"hard times\": [\n",
    "        \"heartbroken\",\n",
    "        \"breakup\",\n",
    "        \"overcoming fear\",\n",
    "        \"be strong\",\n",
    "        \"overthinking\",\n",
    "        \"death\",\n",
    "        \"haters\",\n",
    "        \"toxic relationships\",\n",
    "        \"depression\",\n",
    "        \"loneliness\",\n",
    "        \"dealing with change\",\n",
    "        \"unrequited love\",\n",
    "        \"uncertainty\",\n",
    "        \"sadness\",\n",
    "        \"missing someone\",\n",
    "        \"dealing with frustation\",\n",
    "    ],\n",
    "    \"personal growth\": [\n",
    "        \"letting go\",\n",
    "        \"self-respect\",\n",
    "        \"self-esteem\",\n",
    "        \"be yourself\",\n",
    "        \"ego\",\n",
    "        \"self-developement\",\n",
    "        \"start change\",\n",
    "        \"be strong\",\n",
    "        \"positive thinking\",\n",
    "        \"happiness\",\n",
    "        \"growth\",\n",
    "        \"self-love\",\n",
    "        \"new beginnings\",\n",
    "        \"love yourself\",\n",
    "        \"gratitude\",\n",
    "        \"moving on\",\n",
    "    ],\n",
    "    \"work & productivity\": [\n",
    "        \"focus\",\n",
    "        \"graduation\",\n",
    "        \"college\",\n",
    "        \"study\",\n",
    "        \"success\",\n",
    "        \"passion\",\n",
    "        \"money\",\n",
    "        \"business\",\n",
    "        \"leadership\",\n",
    "        \"hustling\",\n",
    "        \"work\",\n",
    "        \"self-discipline\",\n",
    "        \"routine\",\n",
    "        \"entrepreneurs\",\n",
    "        \"productivity\",\n",
    "        \"perseverance\",\n",
    "    ],\n",
    "    \"inspiration\": [\n",
    "        \"african-american\",\n",
    "        \"proverbs\",\n",
    "        \"funny\",\n",
    "        \"future\",\n",
    "        \"beauty\",\n",
    "        \"passion\",\n",
    "        \"feeling sassy\",\n",
    "        \"women's empowerment\",\n",
    "        \"shore quotes\",\n",
    "        \"enjoy the moment\",\n",
    "        \"sayings\",\n",
    "        \"encouraging words\",\n",
    "        \"feeling blessed\",\n",
    "        \"art\",\n",
    "    ],\n",
    "    \"spiritual & philosophy\": [\n",
    "        \"taoism\",\n",
    "        \"buddhism\",\n",
    "        \"zen\",\n",
    "        \"devotions\",\n",
    "        \"life\",\n",
    "        \"karma\",\n",
    "        \"mindfulness\",\n",
    "        \"mantras\",\n",
    "        \"wisdom\",\n",
    "        \"stoicism\",\n",
    "        \"god\",\n",
    "        \"feeling blessed\",\n",
    "        \"faith\",\n",
    "        \"hope\",\n",
    "        \"bible verses\",\n",
    "        \"philosophy\",\n",
    "    ],\n",
    "}"
   ]
  },
  {
   "cell_type": "code",
   "execution_count": 2,
   "metadata": {},
   "outputs": [],
   "source": [
    "import json"
   ]
  },
  {
   "cell_type": "code",
   "execution_count": 3,
   "metadata": {},
   "outputs": [],
   "source": [
    "with open(\n",
    "    \"/var/DSTeam/locnt2/personal/quotes-tagging/data/category.json\", \"w\"\n",
    ") as outfile:\n",
    "    json.dump(categories, outfile)"
   ]
  },
  {
   "cell_type": "code",
   "execution_count": null,
   "metadata": {},
   "outputs": [],
   "source": []
  }
 ],
 "metadata": {
  "kernelspec": {
   "display_name": "py38DL",
   "language": "python",
   "name": "python3"
  },
  "language_info": {
   "codemirror_mode": {
    "name": "ipython",
    "version": 3
   },
   "file_extension": ".py",
   "mimetype": "text/x-python",
   "name": "python",
   "nbconvert_exporter": "python",
   "pygments_lexer": "ipython3",
   "version": "3.8.16"
  },
  "orig_nbformat": 4,
  "vscode": {
   "interpreter": {
    "hash": "0e69afbae31ca1d360031c3e8e3863c97e6ec78ed85a723f2bece66a9e2fa1a8"
   }
  }
 },
 "nbformat": 4,
 "nbformat_minor": 2
}
