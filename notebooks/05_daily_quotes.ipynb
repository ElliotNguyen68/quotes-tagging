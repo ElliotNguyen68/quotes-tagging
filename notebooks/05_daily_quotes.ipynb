{
 "cells": [
  {
   "cell_type": "code",
   "execution_count": 1,
   "metadata": {},
   "outputs": [],
   "source": [
    "import pandas as pd\n",
    "from datetime import date,datetime\n",
    "from dateutil.relativedelta import relativedelta\n",
    "import sys\n",
    "import os\n",
    "import json"
   ]
  },
  {
   "cell_type": "code",
   "execution_count": 22,
   "metadata": {},
   "outputs": [],
   "source": [
    "df=pd.read_csv('../quote_v1.csv').assign(len_quote=lambda x:x.quote.str.len()).sample(frac=1)[['quote','author','big_cate','tag']]"
   ]
  },
  {
   "cell_type": "code",
   "execution_count": 24,
   "metadata": {},
   "outputs": [],
   "source": [
    "df=df.assign(num_word=lambda x:x.quote.str.split(' '))\\\n",
    "    .assign(num_word=lambda x:x.num_word.str.len())\\\n",
    "    .query('num_word>=5 and num_word<=9').reset_index()"
   ]
  },
  {
   "cell_type": "code",
   "execution_count": 25,
   "metadata": {},
   "outputs": [],
   "source": [
    "dt_start=date(2023,5,1)\n",
    "for i,dt in enumerate(pd.date_range(dt_start,dt_start+relativedelta(days=5000))):\n",
    "    row=df.iloc[i%len(df)]\n",
    "    year_month=dt.strftime('%Y%m')\n",
    "    year_month_directory='../data/features/dailyQuote/{}'.format(year_month)\n",
    "    current_dt_str=dt.strftime('%Y%m%d')\n",
    "    if not os.path.exists(year_month_directory):\n",
    "        os.makedirs(year_month_directory)\n",
    "    with open(\n",
    "                \"../data/features/dailyQuote/{}/{}.json\".format(year_month,current_dt_str), \"w\"\n",
    "            ) as outfile:\n",
    "        json.dump(\n",
    "            {\n",
    "                'content':{\n",
    "                    'item':row.quote,\n",
    "                    'owner':row.author\n",
    "                },\n",
    "                'updatedAt':datetime.now().strftime('%Y-%m-%d %H:%M:%S')\n",
    "            },\n",
    "            outfile\n",
    "        )\n",
    "    "
   ]
  },
  {
   "cell_type": "code",
   "execution_count": null,
   "metadata": {},
   "outputs": [],
   "source": []
  }
 ],
 "metadata": {
  "kernelspec": {
   "display_name": "Python 3.8.16 ('py38DS')",
   "language": "python",
   "name": "python3"
  },
  "language_info": {
   "codemirror_mode": {
    "name": "ipython",
    "version": 3
   },
   "file_extension": ".py",
   "mimetype": "text/x-python",
   "name": "python",
   "nbconvert_exporter": "python",
   "pygments_lexer": "ipython3",
   "version": "3.8.16"
  },
  "orig_nbformat": 4,
  "vscode": {
   "interpreter": {
    "hash": "af716ab0b9828291d9f615942f9049acd5129dbe4ed33fe908c9ae616479a369"
   }
  }
 },
 "nbformat": 4,
 "nbformat_minor": 2
}
