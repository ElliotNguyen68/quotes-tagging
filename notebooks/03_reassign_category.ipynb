{
 "cells": [
  {
   "cell_type": "code",
   "execution_count": 43,
   "metadata": {},
   "outputs": [],
   "source": [
    "import pandas as pd\n",
    "import sys\n",
    "\n",
    "sys.path.append(\"/var/DSTeam/locnt2/personal/quotes-tagging/\")\n",
    "from collections import Counter\n",
    "# import torch\n",
    "# from torch import nn\n",
    "import numpy as np\n",
    "import json\n",
    "import itertools\n",
    "import shutil\n"
   ]
  },
  {
   "cell_type": "code",
   "execution_count": 44,
   "metadata": {},
   "outputs": [],
   "source": [
    "df=pd.read_csv('/var/DSTeam/locnt2/personal/quotes-tagging/quotes_clean.csv')"
   ]
  },
  {
   "cell_type": "code",
   "execution_count": 45,
   "metadata": {},
   "outputs": [],
   "source": [
    "cate_roots= json.load(open('/var/DSTeam/locnt2/personal/quotes-tagging/category_raw.json'))"
   ]
  },
  {
   "cell_type": "code",
   "execution_count": 46,
   "metadata": {},
   "outputs": [
    {
     "name": "stdout",
     "output_type": "stream",
     "text": [
      "hard times\n",
      "personal growth\n",
      "work & productivity\n",
      "inspiration\n",
      "relationships\n",
      "spiritual & philosophy\n",
      "health & fitness\n"
     ]
    }
   ],
   "source": [
    "cate_pd_total=pd.DataFrame()\n",
    "for big_cat in cate_roots.keys():\n",
    "    print(big_cat)\n",
    "    bigcate=[big_cat]\n",
    "    cates=[cate_roots[big_cat][i] for i in range(len(cate_roots[big_cat]))]\n",
    "    pairs=list(itertools.product(bigcate,cates))\n",
    "    cate_pd=pd.DataFrame(pairs,columns=['big_cate','tag'])\n",
    "    \n",
    "    cate_pd_total=pd.concat([cate_pd_total,cate_pd])"
   ]
  },
  {
   "cell_type": "code",
   "execution_count": 47,
   "metadata": {},
   "outputs": [
    {
     "data": {
      "text/html": [
       "<div>\n",
       "<style scoped>\n",
       "    .dataframe tbody tr th:only-of-type {\n",
       "        vertical-align: middle;\n",
       "    }\n",
       "\n",
       "    .dataframe tbody tr th {\n",
       "        vertical-align: top;\n",
       "    }\n",
       "\n",
       "    .dataframe thead th {\n",
       "        text-align: right;\n",
       "    }\n",
       "</style>\n",
       "<table border=\"1\" class=\"dataframe\">\n",
       "  <thead>\n",
       "    <tr style=\"text-align: right;\">\n",
       "      <th></th>\n",
       "      <th>big_cate</th>\n",
       "      <th>tag</th>\n",
       "    </tr>\n",
       "  </thead>\n",
       "  <tbody>\n",
       "    <tr>\n",
       "      <th>0</th>\n",
       "      <td>relationships</td>\n",
       "      <td>unconditional love</td>\n",
       "    </tr>\n",
       "    <tr>\n",
       "      <th>1</th>\n",
       "      <td>relationships</td>\n",
       "      <td>cheating</td>\n",
       "    </tr>\n",
       "    <tr>\n",
       "      <th>2</th>\n",
       "      <td>relationships</td>\n",
       "      <td>marriage</td>\n",
       "    </tr>\n",
       "    <tr>\n",
       "      <th>3</th>\n",
       "      <td>relationships</td>\n",
       "      <td>friendship</td>\n",
       "    </tr>\n",
       "    <tr>\n",
       "      <th>4</th>\n",
       "      <td>relationships</td>\n",
       "      <td>parenthood</td>\n",
       "    </tr>\n",
       "    <tr>\n",
       "      <th>5</th>\n",
       "      <td>relationships</td>\n",
       "      <td>being single</td>\n",
       "    </tr>\n",
       "    <tr>\n",
       "      <th>6</th>\n",
       "      <td>relationships</td>\n",
       "      <td>loyalty</td>\n",
       "    </tr>\n",
       "    <tr>\n",
       "      <th>7</th>\n",
       "      <td>relationships</td>\n",
       "      <td>distance</td>\n",
       "    </tr>\n",
       "    <tr>\n",
       "      <th>8</th>\n",
       "      <td>relationships</td>\n",
       "      <td>falling in love</td>\n",
       "    </tr>\n",
       "    <tr>\n",
       "      <th>9</th>\n",
       "      <td>relationships</td>\n",
       "      <td>love</td>\n",
       "    </tr>\n",
       "    <tr>\n",
       "      <th>10</th>\n",
       "      <td>relationships</td>\n",
       "      <td>best friend</td>\n",
       "    </tr>\n",
       "    <tr>\n",
       "      <th>11</th>\n",
       "      <td>relationships</td>\n",
       "      <td>honestly</td>\n",
       "    </tr>\n",
       "    <tr>\n",
       "      <th>12</th>\n",
       "      <td>relationships</td>\n",
       "      <td>missing someone</td>\n",
       "    </tr>\n",
       "    <tr>\n",
       "      <th>13</th>\n",
       "      <td>relationships</td>\n",
       "      <td>fake people</td>\n",
       "    </tr>\n",
       "    <tr>\n",
       "      <th>14</th>\n",
       "      <td>relationships</td>\n",
       "      <td>relationships</td>\n",
       "    </tr>\n",
       "    <tr>\n",
       "      <th>15</th>\n",
       "      <td>relationships</td>\n",
       "      <td>family</td>\n",
       "    </tr>\n",
       "    <tr>\n",
       "      <th>16</th>\n",
       "      <td>relationships</td>\n",
       "      <td>forgiveness</td>\n",
       "    </tr>\n",
       "    <tr>\n",
       "      <th>17</th>\n",
       "      <td>relationships</td>\n",
       "      <td>trust</td>\n",
       "    </tr>\n",
       "    <tr>\n",
       "      <th>18</th>\n",
       "      <td>relationships</td>\n",
       "      <td>social anxiety</td>\n",
       "    </tr>\n",
       "    <tr>\n",
       "      <th>19</th>\n",
       "      <td>relationships</td>\n",
       "      <td>introvert</td>\n",
       "    </tr>\n",
       "  </tbody>\n",
       "</table>\n",
       "</div>"
      ],
      "text/plain": [
       "         big_cate                 tag\n",
       "0   relationships  unconditional love\n",
       "1   relationships            cheating\n",
       "2   relationships            marriage\n",
       "3   relationships          friendship\n",
       "4   relationships          parenthood\n",
       "5   relationships        being single\n",
       "6   relationships             loyalty\n",
       "7   relationships            distance\n",
       "8   relationships     falling in love\n",
       "9   relationships                love\n",
       "10  relationships         best friend\n",
       "11  relationships            honestly\n",
       "12  relationships     missing someone\n",
       "13  relationships         fake people\n",
       "14  relationships       relationships\n",
       "15  relationships              family\n",
       "16  relationships         forgiveness\n",
       "17  relationships               trust\n",
       "18  relationships      social anxiety\n",
       "19  relationships           introvert"
      ]
     },
     "execution_count": 47,
     "metadata": {},
     "output_type": "execute_result"
    }
   ],
   "source": [
    "cate_pd_total.loc[lambda x:x.big_cate=='relationships']"
   ]
  },
  {
   "cell_type": "code",
   "execution_count": 48,
   "metadata": {},
   "outputs": [],
   "source": [
    "fake_id=list(range(len(df)))"
   ]
  },
  {
   "cell_type": "code",
   "execution_count": 49,
   "metadata": {},
   "outputs": [],
   "source": [
    "df['id']=fake_id"
   ]
  },
  {
   "cell_type": "code",
   "execution_count": 50,
   "metadata": {},
   "outputs": [],
   "source": [
    "df_quote_1=pd.merge(\n",
    "    df.assign(tag=lambda x:x.tags.str.lower()).assign(tag=lambda x:x.tag.str.split(',')).explode('tag'),\n",
    "    cate_pd_total,\n",
    "    on='tag'\n",
    ").drop_duplicates('id')[['quote','big_cate','tag','id','author']]"
   ]
  },
  {
   "cell_type": "code",
   "execution_count": 51,
   "metadata": {},
   "outputs": [],
   "source": [
    "df_quote_1[['quote','big_cate','tag','id','author']].to_csv('/var/DSTeam/locnt2/personal/quotes-tagging/quote_v1.csv')"
   ]
  },
  {
   "cell_type": "code",
   "execution_count": 52,
   "metadata": {},
   "outputs": [
    {
     "data": {
      "text/html": [
       "<div>\n",
       "<style scoped>\n",
       "    .dataframe tbody tr th:only-of-type {\n",
       "        vertical-align: middle;\n",
       "    }\n",
       "\n",
       "    .dataframe tbody tr th {\n",
       "        vertical-align: top;\n",
       "    }\n",
       "\n",
       "    .dataframe thead th {\n",
       "        text-align: right;\n",
       "    }\n",
       "</style>\n",
       "<table border=\"1\" class=\"dataframe\">\n",
       "  <thead>\n",
       "    <tr style=\"text-align: right;\">\n",
       "      <th></th>\n",
       "      <th>quote</th>\n",
       "      <th>big_cate</th>\n",
       "      <th>tag</th>\n",
       "      <th>id</th>\n",
       "      <th>author</th>\n",
       "    </tr>\n",
       "  </thead>\n",
       "  <tbody>\n",
       "    <tr>\n",
       "      <th>0</th>\n",
       "      <td>Only once in your life, I truly believe, you f...</td>\n",
       "      <td>relationships</td>\n",
       "      <td>love</td>\n",
       "      <td>6</td>\n",
       "      <td>Bob Marley</td>\n",
       "    </tr>\n",
       "    <tr>\n",
       "      <th>1</th>\n",
       "      <td>As he read, I fell in love the way you fall as...</td>\n",
       "      <td>relationships</td>\n",
       "      <td>love</td>\n",
       "      <td>8</td>\n",
       "      <td>John Green, The Fault in Our Stars</td>\n",
       "    </tr>\n",
       "    <tr>\n",
       "      <th>2</th>\n",
       "      <td>I love you without knowing how, or when, or fr...</td>\n",
       "      <td>relationships</td>\n",
       "      <td>love</td>\n",
       "      <td>11</td>\n",
       "      <td>Pablo Neruda, 100 Love Sonnets</td>\n",
       "    </tr>\n",
       "    <tr>\n",
       "      <th>3</th>\n",
       "      <td>Have you ever been in love? Horrible isn't it?...</td>\n",
       "      <td>relationships</td>\n",
       "      <td>love</td>\n",
       "      <td>13</td>\n",
       "      <td>Neil Gaiman, The Kindly Ones</td>\n",
       "    </tr>\n",
       "    <tr>\n",
       "      <th>4</th>\n",
       "      <td>There is never a time or place for true love. ...</td>\n",
       "      <td>relationships</td>\n",
       "      <td>love</td>\n",
       "      <td>16</td>\n",
       "      <td>Sarah Dessen, The Truth About Forever</td>\n",
       "    </tr>\n",
       "    <tr>\n",
       "      <th>...</th>\n",
       "      <td>...</td>\n",
       "      <td>...</td>\n",
       "      <td>...</td>\n",
       "      <td>...</td>\n",
       "      <td>...</td>\n",
       "    </tr>\n",
       "    <tr>\n",
       "      <th>66289</th>\n",
       "      <td>I have learned that not diamonds but divorce l...</td>\n",
       "      <td>relationships</td>\n",
       "      <td>best friend</td>\n",
       "      <td>458294</td>\n",
       "      <td>Zsa Zsa Gabor</td>\n",
       "    </tr>\n",
       "    <tr>\n",
       "      <th>66290</th>\n",
       "      <td>My mind has been both my best friend and my wo...</td>\n",
       "      <td>relationships</td>\n",
       "      <td>best friend</td>\n",
       "      <td>458348</td>\n",
       "      <td>Elyn Saks</td>\n",
       "    </tr>\n",
       "    <tr>\n",
       "      <th>66291</th>\n",
       "      <td>If I stopped writing and being at my piano, I ...</td>\n",
       "      <td>relationships</td>\n",
       "      <td>best friend</td>\n",
       "      <td>458384</td>\n",
       "      <td>Jessi Colter</td>\n",
       "    </tr>\n",
       "    <tr>\n",
       "      <th>66292</th>\n",
       "      <td>I've learned that I am allowed to say what I l...</td>\n",
       "      <td>relationships</td>\n",
       "      <td>best friend</td>\n",
       "      <td>458416</td>\n",
       "      <td>Bobbi Brown</td>\n",
       "    </tr>\n",
       "    <tr>\n",
       "      <th>66293</th>\n",
       "      <td>I haven't personally experienced bullying, but...</td>\n",
       "      <td>relationships</td>\n",
       "      <td>best friend</td>\n",
       "      <td>458428</td>\n",
       "      <td>Amber Riley</td>\n",
       "    </tr>\n",
       "  </tbody>\n",
       "</table>\n",
       "<p>65922 rows × 5 columns</p>\n",
       "</div>"
      ],
      "text/plain": [
       "                                                   quote       big_cate  \\\n",
       "0      Only once in your life, I truly believe, you f...  relationships   \n",
       "1      As he read, I fell in love the way you fall as...  relationships   \n",
       "2      I love you without knowing how, or when, or fr...  relationships   \n",
       "3      Have you ever been in love? Horrible isn't it?...  relationships   \n",
       "4      There is never a time or place for true love. ...  relationships   \n",
       "...                                                  ...            ...   \n",
       "66289  I have learned that not diamonds but divorce l...  relationships   \n",
       "66290  My mind has been both my best friend and my wo...  relationships   \n",
       "66291  If I stopped writing and being at my piano, I ...  relationships   \n",
       "66292  I've learned that I am allowed to say what I l...  relationships   \n",
       "66293  I haven't personally experienced bullying, but...  relationships   \n",
       "\n",
       "               tag      id                                 author  \n",
       "0             love       6                             Bob Marley  \n",
       "1             love       8     John Green, The Fault in Our Stars  \n",
       "2             love      11         Pablo Neruda, 100 Love Sonnets  \n",
       "3             love      13           Neil Gaiman, The Kindly Ones  \n",
       "4             love      16  Sarah Dessen, The Truth About Forever  \n",
       "...            ...     ...                                    ...  \n",
       "66289  best friend  458294                          Zsa Zsa Gabor  \n",
       "66290  best friend  458348                              Elyn Saks  \n",
       "66291  best friend  458384                           Jessi Colter  \n",
       "66292  best friend  458416                            Bobbi Brown  \n",
       "66293  best friend  458428                            Amber Riley  \n",
       "\n",
       "[65922 rows x 5 columns]"
      ]
     },
     "execution_count": 52,
     "metadata": {},
     "output_type": "execute_result"
    }
   ],
   "source": [
    "df_quote_1"
   ]
  },
  {
   "cell_type": "code",
   "execution_count": 53,
   "metadata": {},
   "outputs": [
    {
     "data": {
      "text/plain": [
       "77"
      ]
     },
     "execution_count": 53,
     "metadata": {},
     "output_type": "execute_result"
    }
   ],
   "source": [
    "df_quote_1.tag.nunique()"
   ]
  },
  {
   "cell_type": "code",
   "execution_count": 54,
   "metadata": {},
   "outputs": [
    {
     "data": {
      "text/plain": [
       "7"
      ]
     },
     "execution_count": 54,
     "metadata": {},
     "output_type": "execute_result"
    }
   ],
   "source": [
    "df_quote_1.big_cate.nunique()"
   ]
  },
  {
   "cell_type": "code",
   "execution_count": 55,
   "metadata": {},
   "outputs": [],
   "source": [
    "test_dict=df_quote_1.assign(quote_author_pair=lambda x:x.quote+'|author|'+x.author).groupby(['big_cate','tag']).agg(\n",
    "    list_quote_author=('quote_author_pair',list)\n",
    ").reset_index()"
   ]
  },
  {
   "cell_type": "code",
   "execution_count": 56,
   "metadata": {},
   "outputs": [],
   "source": [
    "# test_dict=df_quote_1.assign(quote_author_pair=lambda x:x.quote+'|author|'+x.author).groupby(['big_cate','tag']).agg(\n",
    "#     list_quote=('quote',list),\n",
    "#     list_author=('author',list)\n",
    "# ).reset_index()"
   ]
  },
  {
   "cell_type": "code",
   "execution_count": 57,
   "metadata": {},
   "outputs": [],
   "source": [
    "dict_json={}\n",
    "for i in range(len(test_dict)):\n",
    "    row=test_dict.iloc[i]\n",
    "    if row.big_cate not in dict_json:\n",
    "        dict_json[row.big_cate]={}\n",
    "    else:\n",
    "        dict_json[row.big_cate][row.tag]=row.list_quote_author"
   ]
  },
  {
   "cell_type": "code",
   "execution_count": 61,
   "metadata": {},
   "outputs": [],
   "source": [
    "num_quotes_per_partition=20\n",
    "num_partition_per_tags=10\n",
    "env='staging'\n",
    "work_dir='/var/DSTeam/locnt2/personal/quotes-tagging'"
   ]
  },
  {
   "cell_type": "code",
   "execution_count": 62,
   "metadata": {},
   "outputs": [],
   "source": [
    "import os\n",
    "path = \"pythonprog\"\n",
    "# Check whether the specified path exists or not\n",
    "isExist = os.path.exists(path)\n",
    "if not isExist:\n",
    "   # Create a new directory because it does not exist\n",
    "   os.makedirs(path)\n"
   ]
  },
  {
   "cell_type": "code",
   "execution_count": 63,
   "metadata": {},
   "outputs": [],
   "source": [
    "def check_exist_next_partition(big_cate: str, tag: str, current_partition: int) -> bool:\n",
    "    if (\n",
    "        len(\n",
    "            dict_json[big_cate][tag][\n",
    "                (i + 1) * num_quotes_per_partition : (i + 2) * num_quotes_per_partition\n",
    "            ]\n",
    "        )\n",
    "        > 0\n",
    "    ):\n",
    "        return True\n",
    "    return False\n",
    "\n",
    "\n",
    "def extract_quote_author_list(list_author_quote, sep=\"|author|\"):\n",
    "    # print(list_author_quote)\n",
    "    try:\n",
    "        return [\n",
    "            {\"item\": x[0], \"owner\": x[1]}\n",
    "            for x in list(\n",
    "                map(\n",
    "                    lambda y: y.split(sep),\n",
    "                    list(filter(lambda z: isinstance(z, str), list_author_quote)),\n",
    "                )\n",
    "            )\n",
    "        ]\n",
    "    except:\n",
    "        print(list_author_quote)"
   ]
  },
  {
   "cell_type": "code",
   "execution_count": 68,
   "metadata": {},
   "outputs": [
    {
     "data": {
      "text/plain": [
       "2"
      ]
     },
     "execution_count": 68,
     "metadata": {},
     "output_type": "execute_result"
    }
   ],
   "source": [
    "5//2"
   ]
  },
  {
   "cell_type": "code",
   "execution_count": 81,
   "metadata": {},
   "outputs": [],
   "source": [
    "for big_cat in dict_json.keys():\n",
    "    for tag in dict_json[big_cat].keys():\n",
    "        num_partition_this_tag=len(dict_json[big_cat][tag])//num_quotes_per_partition\n",
    "        num_partition_this_tag=num_partition_this_tag+int(num_quotes_per_partition*num_partition_this_tag<len(dict_json[big_cat][tag]))\n",
    "        for i in range(min(num_partition_this_tag,num_partition_per_tags)):\n",
    "            current_path=\"{}/data/{}/{}/{}\".format(work_dir,big_cat,tag,i)\n",
    "            if not os.path.exists(current_path):\n",
    "                os.makedirs(current_path)\n",
    "            with open(\n",
    "                \"{}/data/{}/{}/{}/data.json\".format(work_dir,big_cat,tag,i), \"w\"\n",
    "            ) as outfile:\n",
    "                # prev=None if i==0 else \"/data/{}/{}/{}/data.json\".format(big_cat,tag,i-1)\n",
    "                # next=None if i==num_partition_per_tags-1 or not check_exist_next_partition(big_cat,tag,i) else \"/data/{}/{}/{}/data.json\".format(big_cat,tag,i+1)\n",
    "                contents=dict_json[big_cat][tag][i*num_quotes_per_partition:(i+1)*num_quotes_per_partition]\n",
    "                if len(contents)>0:\n",
    "                    json.dump(\n",
    "                        {\n",
    "                            'contents':extract_quote_author_list(contents),\n",
    "                            'pagination':{\n",
    "                                # 'next':next,\n",
    "                                # 'prev':prev,\n",
    "                                # 'current':\"/data/{}/{}/{}/data.json\".format(big_cat,tag,i)\n",
    "                                \"size\":len(contents),\n",
    "                                'total': min(num_partition_this_tag,num_partition_per_tags),\n",
    "                                'current':i\n",
    "                            }\n",
    "                        },\n",
    "                        outfile\n",
    "                    )\n",
    "                    # print('1')\n",
    "                else:\n",
    "                    shutil.rmtree(current_path)"
   ]
  },
  {
   "cell_type": "code",
   "execution_count": null,
   "metadata": {},
   "outputs": [],
   "source": []
  },
  {
   "cell_type": "code",
   "execution_count": 29,
   "metadata": {},
   "outputs": [],
   "source": [
    "modified_metadata={}"
   ]
  },
  {
   "cell_type": "code",
   "execution_count": 82,
   "metadata": {},
   "outputs": [],
   "source": [
    "for big_cat in cate_roots.keys():\n",
    "    modified_metadata[big_cat]=[]\n",
    "    for tag in cate_roots[big_cat]:\n",
    "        if os.path.exists('/var/DSTeam/locnt2/personal/quotes-tagging/data/{}/{}'.format(big_cat,tag)):\n",
    "            obj={\n",
    "                'url':'public/data/quotes/{}/{}/0/data.json'.format(big_cat,tag),\n",
    "                'tag':tag\n",
    "            } \n",
    "            modified_metadata[big_cat].append(obj)\n",
    "        "
   ]
  },
  {
   "cell_type": "code",
   "execution_count": 83,
   "metadata": {},
   "outputs": [],
   "source": [
    "with open(\n",
    "    \"/var/DSTeam/locnt2/personal/quotes-tagging/data/category.json\", \"w\"\n",
    ") as outfile:\n",
    "    json.dump(modified_metadata, outfile)"
   ]
  },
  {
   "cell_type": "code",
   "execution_count": 34,
   "metadata": {},
   "outputs": [],
   "source": [
    "df_quote_remain=pd.merge(\n",
    "    df,\n",
    "    df_quote_1[['id']],\n",
    "    on='id',\n",
    "    how='outer',indicator=True\n",
    ").loc[lambda x:x._merge=='left_only'].drop('_merge',axis=1)"
   ]
  },
  {
   "cell_type": "code",
   "execution_count": 35,
   "metadata": {},
   "outputs": [],
   "source": [
    "df_quote_remain.to_csv('/var/DSTeam/locnt2/personal/quotes-tagging/remain_quote.csv',index=False)"
   ]
  },
  {
   "attachments": {},
   "cell_type": "markdown",
   "metadata": {},
   "source": [
    "## Mapping from tags to predefined cate"
   ]
  },
  {
   "cell_type": "code",
   "execution_count": 36,
   "metadata": {},
   "outputs": [],
   "source": [
    "all_tags=df.tags.str.lower().str.split(',').explode('tags').drop_duplicates().tolist()"
   ]
  },
  {
   "cell_type": "code",
   "execution_count": 37,
   "metadata": {},
   "outputs": [
    {
     "data": {
      "text/html": [
       "<div>\n",
       "<style scoped>\n",
       "    .dataframe tbody tr th:only-of-type {\n",
       "        vertical-align: middle;\n",
       "    }\n",
       "\n",
       "    .dataframe tbody tr th {\n",
       "        vertical-align: top;\n",
       "    }\n",
       "\n",
       "    .dataframe thead th {\n",
       "        text-align: right;\n",
       "    }\n",
       "</style>\n",
       "<table border=\"1\" class=\"dataframe\">\n",
       "  <thead>\n",
       "    <tr style=\"text-align: right;\">\n",
       "      <th></th>\n",
       "      <th>big_cate</th>\n",
       "      <th>tag</th>\n",
       "    </tr>\n",
       "  </thead>\n",
       "  <tbody>\n",
       "    <tr>\n",
       "      <th>0</th>\n",
       "      <td>hard times</td>\n",
       "      <td>heartbroken</td>\n",
       "    </tr>\n",
       "    <tr>\n",
       "      <th>1</th>\n",
       "      <td>hard times</td>\n",
       "      <td>breakup</td>\n",
       "    </tr>\n",
       "    <tr>\n",
       "      <th>2</th>\n",
       "      <td>hard times</td>\n",
       "      <td>overcoming fear</td>\n",
       "    </tr>\n",
       "    <tr>\n",
       "      <th>3</th>\n",
       "      <td>hard times</td>\n",
       "      <td>be strong</td>\n",
       "    </tr>\n",
       "    <tr>\n",
       "      <th>4</th>\n",
       "      <td>hard times</td>\n",
       "      <td>overthinking</td>\n",
       "    </tr>\n",
       "    <tr>\n",
       "      <th>...</th>\n",
       "      <td>...</td>\n",
       "      <td>...</td>\n",
       "    </tr>\n",
       "    <tr>\n",
       "      <th>9</th>\n",
       "      <td>health &amp; fitness</td>\n",
       "      <td>no excuses</td>\n",
       "    </tr>\n",
       "    <tr>\n",
       "      <th>10</th>\n",
       "      <td>health &amp; fitness</td>\n",
       "      <td>body positivity</td>\n",
       "    </tr>\n",
       "    <tr>\n",
       "      <th>11</th>\n",
       "      <td>health &amp; fitness</td>\n",
       "      <td>training</td>\n",
       "    </tr>\n",
       "    <tr>\n",
       "      <th>12</th>\n",
       "      <td>health &amp; fitness</td>\n",
       "      <td>running</td>\n",
       "    </tr>\n",
       "    <tr>\n",
       "      <th>13</th>\n",
       "      <td>health &amp; fitness</td>\n",
       "      <td>before a game</td>\n",
       "    </tr>\n",
       "  </tbody>\n",
       "</table>\n",
       "<p>112 rows × 2 columns</p>\n",
       "</div>"
      ],
      "text/plain": [
       "            big_cate              tag\n",
       "0         hard times      heartbroken\n",
       "1         hard times          breakup\n",
       "2         hard times  overcoming fear\n",
       "3         hard times        be strong\n",
       "4         hard times     overthinking\n",
       "..               ...              ...\n",
       "9   health & fitness       no excuses\n",
       "10  health & fitness  body positivity\n",
       "11  health & fitness         training\n",
       "12  health & fitness          running\n",
       "13  health & fitness    before a game\n",
       "\n",
       "[112 rows x 2 columns]"
      ]
     },
     "execution_count": 37,
     "metadata": {},
     "output_type": "execute_result"
    }
   ],
   "source": [
    "cate_pd_total"
   ]
  },
  {
   "cell_type": "code",
   "execution_count": 38,
   "metadata": {},
   "outputs": [
    {
     "data": {
      "text/html": [
       "<div>\n",
       "<style scoped>\n",
       "    .dataframe tbody tr th:only-of-type {\n",
       "        vertical-align: middle;\n",
       "    }\n",
       "\n",
       "    .dataframe tbody tr th {\n",
       "        vertical-align: top;\n",
       "    }\n",
       "\n",
       "    .dataframe thead th {\n",
       "        text-align: right;\n",
       "    }\n",
       "</style>\n",
       "<table border=\"1\" class=\"dataframe\">\n",
       "  <thead>\n",
       "    <tr style=\"text-align: right;\">\n",
       "      <th></th>\n",
       "      <th>quote</th>\n",
       "      <th>author</th>\n",
       "      <th>tags</th>\n",
       "      <th>id</th>\n",
       "    </tr>\n",
       "  </thead>\n",
       "  <tbody>\n",
       "    <tr>\n",
       "      <th>0</th>\n",
       "      <td>I'm selfish, impatient and a little insecure. ...</td>\n",
       "      <td>Marilyn Monroe</td>\n",
       "      <td>attributed-no-source, best, life, love, mistak...</td>\n",
       "      <td>0</td>\n",
       "    </tr>\n",
       "    <tr>\n",
       "      <th>1</th>\n",
       "      <td>You've gotta dance like there's nobody watchin...</td>\n",
       "      <td>William W. Purkey</td>\n",
       "      <td>dance, heaven, hurt, inspirational, life, love...</td>\n",
       "      <td>1</td>\n",
       "    </tr>\n",
       "    <tr>\n",
       "      <th>2</th>\n",
       "      <td>You know you're in love when you can't fall as...</td>\n",
       "      <td>Dr. Seuss</td>\n",
       "      <td>attributed-no-source, dreams, love, reality, s...</td>\n",
       "      <td>2</td>\n",
       "    </tr>\n",
       "    <tr>\n",
       "      <th>3</th>\n",
       "      <td>A friend is someone who knows all about you an...</td>\n",
       "      <td>Elbert Hubbard</td>\n",
       "      <td>friend, friendship, knowledge, love</td>\n",
       "      <td>3</td>\n",
       "    </tr>\n",
       "    <tr>\n",
       "      <th>4</th>\n",
       "      <td>Darkness cannot drive out darkness: only light...</td>\n",
       "      <td>Martin Luther King Jr., A Testament of Hope: T...</td>\n",
       "      <td>darkness, drive-out, hate, inspirational, ligh...</td>\n",
       "      <td>4</td>\n",
       "    </tr>\n",
       "    <tr>\n",
       "      <th>...</th>\n",
       "      <td>...</td>\n",
       "      <td>...</td>\n",
       "      <td>...</td>\n",
       "      <td>...</td>\n",
       "    </tr>\n",
       "    <tr>\n",
       "      <th>499702</th>\n",
       "      <td>The future isn't just a place you'll go. It's ...</td>\n",
       "      <td>Nancy Duarte</td>\n",
       "      <td>You, Place, Will</td>\n",
       "      <td>499702</td>\n",
       "    </tr>\n",
       "    <tr>\n",
       "      <th>499703</th>\n",
       "      <td>The Christian of the future will be a mystic o...</td>\n",
       "      <td>Karl Rahner</td>\n",
       "      <td>Christian, Will, Exist</td>\n",
       "      <td>499703</td>\n",
       "    </tr>\n",
       "    <tr>\n",
       "      <th>499704</th>\n",
       "      <td>I do believe the most important thing I can do...</td>\n",
       "      <td>John C. Stennis</td>\n",
       "      <td>Past, Believe, Help</td>\n",
       "      <td>499704</td>\n",
       "    </tr>\n",
       "    <tr>\n",
       "      <th>499705</th>\n",
       "      <td>I'd say I'm a bit antimadridista although I do...</td>\n",
       "      <td>Isco</td>\n",
       "      <td>Team, Humility, Know</td>\n",
       "      <td>499705</td>\n",
       "    </tr>\n",
       "    <tr>\n",
       "      <th>499706</th>\n",
       "      <td>The future is now.</td>\n",
       "      <td>Nam June Paik</td>\n",
       "      <td>Now</td>\n",
       "      <td>499706</td>\n",
       "    </tr>\n",
       "  </tbody>\n",
       "</table>\n",
       "<p>433787 rows × 4 columns</p>\n",
       "</div>"
      ],
      "text/plain": [
       "                                                    quote  \\\n",
       "0       I'm selfish, impatient and a little insecure. ...   \n",
       "1       You've gotta dance like there's nobody watchin...   \n",
       "2       You know you're in love when you can't fall as...   \n",
       "3       A friend is someone who knows all about you an...   \n",
       "4       Darkness cannot drive out darkness: only light...   \n",
       "...                                                   ...   \n",
       "499702  The future isn't just a place you'll go. It's ...   \n",
       "499703  The Christian of the future will be a mystic o...   \n",
       "499704  I do believe the most important thing I can do...   \n",
       "499705  I'd say I'm a bit antimadridista although I do...   \n",
       "499706                                 The future is now.   \n",
       "\n",
       "                                                   author  \\\n",
       "0                                          Marilyn Monroe   \n",
       "1                                       William W. Purkey   \n",
       "2                                               Dr. Seuss   \n",
       "3                                          Elbert Hubbard   \n",
       "4       Martin Luther King Jr., A Testament of Hope: T...   \n",
       "...                                                   ...   \n",
       "499702                                       Nancy Duarte   \n",
       "499703                                        Karl Rahner   \n",
       "499704                                    John C. Stennis   \n",
       "499705                                               Isco   \n",
       "499706                                      Nam June Paik   \n",
       "\n",
       "                                                     tags      id  \n",
       "0       attributed-no-source, best, life, love, mistak...       0  \n",
       "1       dance, heaven, hurt, inspirational, life, love...       1  \n",
       "2       attributed-no-source, dreams, love, reality, s...       2  \n",
       "3                     friend, friendship, knowledge, love       3  \n",
       "4       darkness, drive-out, hate, inspirational, ligh...       4  \n",
       "...                                                   ...     ...  \n",
       "499702                                  You, Place, Will   499702  \n",
       "499703                            Christian, Will, Exist   499703  \n",
       "499704                               Past, Believe, Help   499704  \n",
       "499705                              Team, Humility, Know   499705  \n",
       "499706                                               Now   499706  \n",
       "\n",
       "[433787 rows x 4 columns]"
      ]
     },
     "execution_count": 38,
     "metadata": {},
     "output_type": "execute_result"
    }
   ],
   "source": [
    "df_quote_remain"
   ]
  },
  {
   "cell_type": "code",
   "execution_count": 40,
   "metadata": {},
   "outputs": [],
   "source": [
    "from gensim.test.utils import common_texts\n",
    "from gensim.models import Word2Vec\n",
    "import gensim.downloader\n"
   ]
  },
  {
   "cell_type": "code",
   "execution_count": 129,
   "metadata": {},
   "outputs": [
    {
     "name": "stdout",
     "output_type": "stream",
     "text": [
      "['fasttext-wiki-news-subwords-300', 'conceptnet-numberbatch-17-06-300', 'word2vec-ruscorpora-300', 'word2vec-google-news-300', 'glove-wiki-gigaword-50', 'glove-wiki-gigaword-100', 'glove-wiki-gigaword-200', 'glove-wiki-gigaword-300', 'glove-twitter-25', 'glove-twitter-50', 'glove-twitter-100', 'glove-twitter-200', '__testing_word2vec-matrix-synopsis']\n"
     ]
    }
   ],
   "source": [
    "print(list(gensim.downloader.info()['models'].keys()))"
   ]
  },
  {
   "cell_type": "code",
   "execution_count": 41,
   "metadata": {},
   "outputs": [],
   "source": [
    "w2v_vectors = gensim.downloader.load('word2vec-google-news-300')\n"
   ]
  },
  {
   "cell_type": "code",
   "execution_count": 42,
   "metadata": {},
   "outputs": [],
   "source": [
    "sims = w2v_vectors.most_similar_to_given('apple',['shit','banana','laptop'])  "
   ]
  },
  {
   "cell_type": "code",
   "execution_count": 39,
   "metadata": {},
   "outputs": [
    {
     "ename": "NameError",
     "evalue": "name 'w2v_vectors' is not defined",
     "output_type": "error",
     "traceback": [
      "\u001b[0;31m---------------------------------------------------------------------------\u001b[0m",
      "\u001b[0;31mNameError\u001b[0m                                 Traceback (most recent call last)",
      "Cell \u001b[0;32mIn[39], line 1\u001b[0m\n\u001b[0;32m----> 1\u001b[0m w2v_vectors\u001b[39m.\u001b[39mdistance(\u001b[39m'\u001b[39m\u001b[39mapple\u001b[39m\u001b[39m'\u001b[39m,\u001b[39m'\u001b[39m\u001b[39mred apple\u001b[39m\u001b[39m'\u001b[39m)\n",
      "\u001b[0;31mNameError\u001b[0m: name 'w2v_vectors' is not defined"
     ]
    }
   ],
   "source": [
    "w2v_vectors.distance('apple','red apple')"
   ]
  },
  {
   "cell_type": "code",
   "execution_count": 171,
   "metadata": {},
   "outputs": [
    {
     "data": {
      "text/plain": [
       "'banana'"
      ]
     },
     "execution_count": 171,
     "metadata": {},
     "output_type": "execute_result"
    }
   ],
   "source": [
    "sims"
   ]
  },
  {
   "cell_type": "code",
   "execution_count": null,
   "metadata": {},
   "outputs": [],
   "source": []
  },
  {
   "cell_type": "code",
   "execution_count": null,
   "metadata": {},
   "outputs": [],
   "source": []
  }
 ],
 "metadata": {
  "kernelspec": {
   "display_name": "py38DL",
   "language": "python",
   "name": "python3"
  },
  "language_info": {
   "codemirror_mode": {
    "name": "ipython",
    "version": 3
   },
   "file_extension": ".py",
   "mimetype": "text/x-python",
   "name": "python",
   "nbconvert_exporter": "python",
   "pygments_lexer": "ipython3",
   "version": "3.8.16"
  },
  "orig_nbformat": 4,
  "vscode": {
   "interpreter": {
    "hash": "0e69afbae31ca1d360031c3e8e3863c97e6ec78ed85a723f2bece66a9e2fa1a8"
   }
  }
 },
 "nbformat": 4,
 "nbformat_minor": 2
}
