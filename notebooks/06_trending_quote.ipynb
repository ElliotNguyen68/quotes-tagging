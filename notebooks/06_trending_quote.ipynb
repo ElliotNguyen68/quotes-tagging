{
 "cells": [
  {
   "cell_type": "code",
   "execution_count": 1,
   "metadata": {},
   "outputs": [],
   "source": [
    "import pandas as pd\n",
    "import re\n",
    "from datetime import datetime,date\n",
    "import random\n",
    "import json\n",
    "import os"
   ]
  },
  {
   "cell_type": "code",
   "execution_count": 2,
   "metadata": {},
   "outputs": [],
   "source": [
    "df=pd.read_csv('../remain_quote.csv').drop(['id'],axis=1)"
   ]
  },
  {
   "cell_type": "code",
   "execution_count": 3,
   "metadata": {},
   "outputs": [],
   "source": [
    "df=df.assign(\n",
    "    words=lambda x:x.quote.str.split(' ')\n",
    ").assign(\n",
    "    len_quote=lambda x:x.words.str.len()\n",
    ")"
   ]
  },
  {
   "cell_type": "code",
   "execution_count": 4,
   "metadata": {},
   "outputs": [],
   "source": [
    "df_tmp=df.iloc[:50000][['quote','author','tags']]"
   ]
  },
  {
   "cell_type": "code",
   "execution_count": 5,
   "metadata": {},
   "outputs": [],
   "source": [
    "def get_word_only(word):\n",
    "    return re.findall('[a-zA-Z-]*',word)[0]"
   ]
  },
  {
   "cell_type": "code",
   "execution_count": 6,
   "metadata": {},
   "outputs": [],
   "source": [
    "df_filterd=df_tmp.loc[lambda x:x.quote.str.len()<100].loc[lambda x:x.quote.str.len()>20].assign(quote_author=lambda x:x.quote+\"|author|\"+x.author).assign(tags=lambda x:x.tags.str.split(' ')).explode('tags')\\\n",
    "    .groupby('tags').agg(\n",
    "    list_quote_same_tag=('quote_author',list),\n",
    "    num_quote=('quote_author',len)\n",
    ").loc[lambda x:x.num_quote>=90].sort_values('num_quote',ascending=False)"
   ]
  },
  {
   "cell_type": "code",
   "execution_count": 7,
   "metadata": {},
   "outputs": [],
   "source": [
    "\n",
    "def extract_quote_author_list(list_author_quote, sep=\"|author|\"):\n",
    "    # print(list_author_quote)\n",
    "    try:\n",
    "        return [\n",
    "            {\"item\": x[0], \"owner\": x[1]}\n",
    "            for x in list(\n",
    "                map(\n",
    "                    lambda y: y.split(sep),\n",
    "                    list(filter(lambda z: isinstance(z, str), list_author_quote)),\n",
    "                )\n",
    "            )\n",
    "        ]\n",
    "    except:\n",
    "        print(list_author_quote)"
   ]
  },
  {
   "cell_type": "code",
   "execution_count": 8,
   "metadata": {},
   "outputs": [],
   "source": [
    "# work_dir='/data/DSTeam/locnt2/personal/quotes-tagging'"
   ]
  },
  {
   "cell_type": "code",
   "execution_count": 9,
   "metadata": {},
   "outputs": [],
   "source": [
    "for dt in pd.date_range(date(2023,5,27),date(2023,10,30)):\n",
    "    row=df_filterd.iloc[random.randint(0,len(df_filterd)-1)]\n",
    "    extracted_data=extract_quote_author_list(random.sample(row.list_quote_same_tag,k=90))\n",
    "    year_month=dt.strftime('%Y%m')\n",
    "    current_dt_str=dt.strftime('%Y%m%d')\n",
    "    year_month_directory='../data/features/trending/{}'.format(year_month)\n",
    "    if not os.path.exists(year_month_directory):\n",
    "        os.makedirs(year_month_directory)\n",
    "\n",
    "    with open(\n",
    "                \"../data/features/trending/{}/{}.json\".format(year_month,current_dt_str), \"w\"\n",
    "            ) as outfile:\n",
    "        json.dump(\n",
    "            {\n",
    "                'contents':extracted_data,\n",
    "                'common_tag':row.name,\n",
    "                'updatedAt':datetime.now().strftime('%Y-%m-%d %H:%M:%S')\n",
    "            },\n",
    "            outfile\n",
    "        )"
   ]
  },
  {
   "cell_type": "code",
   "execution_count": null,
   "metadata": {},
   "outputs": [],
   "source": []
  }
 ],
 "metadata": {
  "kernelspec": {
   "display_name": "Python 3.8.16 ('py38DS')",
   "language": "python",
   "name": "python3"
  },
  "language_info": {
   "codemirror_mode": {
    "name": "ipython",
    "version": 3
   },
   "file_extension": ".py",
   "mimetype": "text/x-python",
   "name": "python",
   "nbconvert_exporter": "python",
   "pygments_lexer": "ipython3",
   "version": "3.8.16"
  },
  "orig_nbformat": 4,
  "vscode": {
   "interpreter": {
    "hash": "af716ab0b9828291d9f615942f9049acd5129dbe4ed33fe908c9ae616479a369"
   }
  }
 },
 "nbformat": 4,
 "nbformat_minor": 2
}
